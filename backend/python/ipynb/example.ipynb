{
 "cells": [
  {
   "cell_type": "markdown",
   "id": "89145c84",
   "metadata": {},
   "source": [
    "# EXAMPLE"
   ]
  },
  {
   "cell_type": "code",
   "execution_count": 8,
   "id": "47480834",
   "metadata": {},
   "outputs": [
    {
     "name": "stdout",
     "output_type": "stream",
     "text": [
      "/Users/vivian\n"
     ]
    }
   ],
   "source": [
    "import os\n",
    "\n",
    "print(os.getenv('HOME'))"
   ]
  },
  {
   "cell_type": "markdown",
   "id": "4375912f",
   "metadata": {},
   "source": [
    "#### markdown\n",
    "$a_{ij}^{2} + b^3_{2}=x^{t} + y' + x''_{12}$"
   ]
  },
  {
   "cell_type": "raw",
   "id": "3d44f4da",
   "metadata": {
    "raw_mimetype": "text/latex"
   },
   "source": [
    "$$a_{ij}^{2} + b^3_{2}=x^{t} + y' + x''_{12}$$"
   ]
  },
  {
   "cell_type": "markdown",
   "id": "81fe1a63",
   "metadata": {
    "raw_mimetype": "text/html"
   },
   "source": [
    "<div style=\"color:red\">HTML<div>"
   ]
  },
  {
   "cell_type": "raw",
   "id": "7468041a",
   "metadata": {
    "raw_mimetype": "txt"
   },
   "source": [
    "自定义 mime 类型：纯文本.txt"
   ]
  },
  {
   "cell_type": "code",
   "execution_count": null,
   "id": "696dfac7",
   "metadata": {},
   "outputs": [],
   "source": []
  }
 ],
 "metadata": {
  "celltoolbar": "无",
  "kernelspec": {
   "display_name": "Python 3 (ipykernel)",
   "language": "python",
   "name": "python3"
  },
  "language_info": {
   "codemirror_mode": {
    "name": "ipython",
    "version": 3
   },
   "file_extension": ".py",
   "mimetype": "text/x-python",
   "name": "python",
   "nbconvert_exporter": "python",
   "pygments_lexer": "ipython3",
   "version": "3.9.12"
  }
 },
 "nbformat": 4,
 "nbformat_minor": 5
}
